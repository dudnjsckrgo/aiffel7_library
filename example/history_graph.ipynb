{
 "cells": [
  {
   "cell_type": "markdown",
   "metadata": {},
   "source": [
    "# history_graph 사용법"
   ]
  },
  {
   "cell_type": "markdown",
   "metadata": {},
   "source": [
    "```python \n",
    "from aiffel7 import history_graph\n",
    "history_graph.plot_history(history_resnet50_cut)```"
   ]
  }
 ],
 "metadata": {
  "language_info": {
   "name": "python"
  }
 },
 "nbformat": 4,
 "nbformat_minor": 2
}
