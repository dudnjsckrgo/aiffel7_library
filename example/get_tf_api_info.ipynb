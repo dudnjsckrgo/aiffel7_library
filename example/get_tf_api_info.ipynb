{
 "cells": [
  {
   "cell_type": "markdown",
   "metadata": {},
   "source": [
    "# get_tf_api_info 사용법 예제"
   ]
  },
  {
   "cell_type": "markdown",
   "metadata": {},
   "source": [
    " ## 기능 , 예시 , 주의 사항\n",
    " \n",
    " ### tensorflow API information\n",
    " - Document Address\n",
    " - GitHub Source Address\n",
    " - API Arguments\n",
    " - API Example code\n",
    "\n",
    " ### example:\n",
    "\n",
    " ```python\n",
    " tf = tf()\n",
    " tf.get_info('tf.keras.layers.Conv2D')\n",
    "```\n",
    "### 주의\n",
    " - tf.keras.- api , tf.applications.- api는 대부분 가능함\n",
    " - get_info에 String type으로 전달해야함\n"
   ]
  }
 ],
 "metadata": {
  "kernelspec": {
   "display_name": "aiffel2",
   "language": "python",
   "name": "python3"
  },
  "language_info": {
   "codemirror_mode": {
    "name": "ipython",
    "version": 3
   },
   "file_extension": ".py",
   "mimetype": "text/x-python",
   "name": "python",
   "nbconvert_exporter": "python",
   "pygments_lexer": "ipython3",
   "version": "3.12.0"
  }
 },
 "nbformat": 4,
 "nbformat_minor": 2
}
