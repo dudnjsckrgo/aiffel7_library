{
 "cells": [
  {
   "cell_type": "markdown",
   "metadata": {},
   "source": [
    "# HistoryLogger \n",
    "\n",
    "## 설명\n",
    "- 사용처\n",
    "    - 히스토리를 로그파일에 쌓고 싶을때 사용하면됩니다.\n",
    "- 이것이 주는 이점\n",
    "    - 커널에 의존하지 않고 히스토리를 유지 가능.\n",
    "- 원리\n",
    "    - 에폭이 끝날때 히스토리 관련 로그를 로그파일에 추가한다."
   ]
  },
  {
   "cell_type": "markdown",
   "metadata": {},
   "source": [
    "# 사용법"
   ]
  },
  {
   "cell_type": "markdown",
   "metadata": {},
   "source": [
    "## HistoryLogger 콜백 생성 후 모델 체크포인트 콜백과 함께 훈련하기"
   ]
  },
  {
   "cell_type": "markdown",
   "metadata": {},
   "source": [
    "```python \n",
    "from aiffel7.historylogger import HistoryLogger ,history_graph\n",
    "\n",
    "\n",
    "log_file = 'training_history.log'\n",
    "history_logger = HistoryLogger(log_file)\n",
    "\n",
    "# 모델 체크포인트 설정\n",
    "checkpoint_path = \"model_checkpoint.h5\" # 저장할 파일명과 경로\n",
    "checkpoint = ModelCheckpoint(filepath=checkpoint_path,\n",
    "                             save_best_only=True,\n",
    "                             verbose=1,\n",
    "                             monitor='val_loss',\n",
    "                             mode='min')\n",
    "\n",
    "# 모델 학습\n",
    "history_cam_model = cam_model.fit(\n",
    "    ds_train_norm,\n",
    "    steps_per_epoch=int(ds_info.splits['train'].num_examples/16),\n",
    "    validation_steps=int(ds_info.splits['test'].num_examples/16),\n",
    "    epochs=20,\n",
    "    validation_data=ds_val_norm,\n",
    "    verbose=1,\n",
    "    use_multiprocessing=True,\n",
    "    callbacks=[checkpoint, history_logger] # 콜백 리스트에 체크포인트 추가\n",
    "    ```"
   ]
  },
  {
   "cell_type": "markdown",
   "metadata": {},
   "source": [
    "## 만약 하다가 메모리 부족같은 걸로 중단 되었다면 모델 체크포인트로 다시로드하고 해당 로그파일을 할당한 HistoryLogger와 함께 다시 훈련 시키기"
   ]
  },
  {
   "cell_type": "markdown",
   "metadata": {},
   "source": [
    "```python\n",
    "\n",
    "# 가중치 파일 경로\n",
    "weights_path = \"mix_resnet50.h5\"\n",
    "mix_resnet50 = keras.models.Sequential([\n",
    "    keras.applications.resnet.ResNet50(\n",
    "        include_top=False,\n",
    "        weights='imagenet',\n",
    "        input_shape=(224,224,3),\n",
    "        pooling='avg',\n",
    "    ),\n",
    "    keras.layers.Dense(num_classes, activation='softmax')\n",
    "])\n",
    "# 가중치 로드\n",
    "mix_resnet50.load_weights(weights_path)\n",
    "\n",
    "mix_resnet50.compile(\n",
    "    loss='categorical_crossentropy',\n",
    "    optimizer=tf.keras.optimizers.SGD(lr=0.01),\n",
    "    metrics=['accuracy'],\n",
    ")\n",
    "\n",
    "history_resnet50_mix = mix_resnet50.fit(\n",
    "    ds_train_aug_mixup, # augmentation 적용한 데이터셋 사용\n",
    "    steps_per_epoch=int(ds_info.splits['train'].num_examples/16),\n",
    "    validation_steps=int(ds_info.splits['test'].num_examples/16),\n",
    "    epochs=20,\n",
    "    validation_data=ds_test,\n",
    "    verbose=1,\n",
    "    use_multiprocessing=True,\n",
    "    callbacks=[checkpoint,history_logger,tensorboard_callback]\n",
    ")\n",
    "```"
   ]
  },
  {
   "cell_type": "markdown",
   "metadata": {},
   "source": [
    "## History 그래프 그리기"
   ]
  },
  {
   "cell_type": "markdown",
   "metadata": {},
   "source": [
    "```python\n",
    "import json\n",
    "\n",
    "log_file = 'training_history.log'  # 이전 단계에서 사용한 로그 파일 이름\n",
    "\n",
    "# 로그 파일에서 히스토리 데이터 로드\n",
    "with open(log_file, 'r') as f:\n",
    "    history = json.load(f)\n",
    "    ```\n"
   ]
  },
  {
   "cell_type": "markdown",
   "metadata": {},
   "source": [
    "```python\n",
    "history_graph(history)\n",
    "```"
   ]
  },
  {
   "cell_type": "markdown",
   "metadata": {},
   "source": []
  }
 ],
 "metadata": {
  "language_info": {
   "name": "python"
  }
 },
 "nbformat": 4,
 "nbformat_minor": 2
}
