{
 "cells": [
  {
   "cell_type": "code",
   "execution_count": null,
   "metadata": {},
   "outputs": [],
   "source": [
    "!pip install --upgrade aiffel7"
   ]
  },
  {
   "cell_type": "code",
   "execution_count": 8,
   "metadata": {},
   "outputs": [
    {
     "name": "stdout",
     "output_type": "stream",
     "text": [
      "===============================================\n",
      "* Document *\n",
      "https://www.tensorflow.org/api_docs/python/tf/keras/layers/Dropout/\n",
      " \n",
      "* Git Hub source *\n",
      "[GitHub](https://github.com/keras-team/keras/tree/v2.14.0/keras/layers/regularization/dropout.py#L29-L135)\n",
      " \n",
      "* Arguments *\n",
      "tf.keras.layers.Dropout(\n",
      "    rate, noise_shape=None, seed=None, **kwargs\n",
      ")\n",
      "\n",
      "* Code Examples *\n",
      ">>>  tf.random.set_seed(0)\n",
      ">>>  layer = tf.keras.layers.Dropout(.2, input_shape=(2,))\n",
      ">>>  data = np.arange(10).reshape(5, 2).astype(np.float32)\n",
      ">>>  print(data)\n",
      ">>>  outputs = layer(data, training=True)\n",
      ">>>  print(outputs)\n",
      "===============================================\n",
      "None\n"
     ]
    }
   ],
   "source": [
    "from aiffel7.get_tf_api_info import tf\n",
    "\n",
    "x=tf()\n",
    "print(x.get_info(\"keras.layers.Dropout\"))"
   ]
  },
  {
   "cell_type": "code",
   "execution_count": null,
   "metadata": {},
   "outputs": [],
   "source": []
  }
 ],
 "metadata": {
  "kernelspec": {
   "display_name": "aiffel2",
   "language": "python",
   "name": "python3"
  },
  "language_info": {
   "codemirror_mode": {
    "name": "ipython",
    "version": 3
   },
   "file_extension": ".py",
   "mimetype": "text/x-python",
   "name": "python",
   "nbconvert_exporter": "python",
   "pygments_lexer": "ipython3",
   "version": "3.11.5"
  }
 },
 "nbformat": 4,
 "nbformat_minor": 2
}
