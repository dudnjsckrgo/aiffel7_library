{
 "cells": [
  {
   "cell_type": "code",
   "execution_count": null,
   "metadata": {},
   "outputs": [],
   "source": [
    "\n",
    "from aiffel7.get_tf_api_info import tf\n",
    "\n",
    "\n",
    "# Callback 인스턴스화\n",
    "log_file = 'training_history.log'\n",
    "history_logger = HistoryLogger(log_file)\n",
    "\n",
    "# 모델 훈련\n"
   ]
  },
  {
   "cell_type": "code",
   "execution_count": null,
   "metadata": {},
   "outputs": [],
   "source": [
    "import json\n",
    "\n",
    "log_file = 'training_history.log'  # 이전 단계에서 사용한 로그 파일 이름\n",
    "\n",
    "# 로그 파일에서 히스토리 데이터 로드\n",
    "with open(log_file, 'r') as f:\n",
    "    history = json.load(f)\n"
   ]
  },
  {
   "cell_type": "code",
   "execution_count": null,
   "metadata": {},
   "outputs": [],
   "source": [
    "import matplotlib.pyplot as plt\n",
    "\n",
    "# 손실 그래프 그리기\n",
    "plt.figure(figsize=(8, 4))\n",
    "plt.plot(history['epoch'], history['loss'], label='Training Loss')\n",
    "plt.plot(history['epoch'], history['val_loss'], label='Validation Loss')\n",
    "plt.title('Training and Validation Loss')\n",
    "plt.xlabel('Epoch')\n",
    "plt.ylabel('Loss')\n",
    "plt.legend()\n",
    "plt.show()\n",
    "\n",
    "# 정확도 그래프 그리기\n",
    "plt.figure(figsize=(8, 4))\n",
    "plt.plot(history['epoch'], history['accuracy'], label='Training Accuracy')\n",
    "plt.plot(history['epoch'], history['val_accuracy'], label='Validation Accuracy')\n",
    "plt.title('Training and Validation Accuracy')\n",
    "plt.xlabel('Epoch')\n",
    "plt.ylabel('Accuracy')\n",
    "plt.legend()\n",
    "plt.show()\n"
   ]
  }
 ],
 "metadata": {
  "language_info": {
   "name": "python"
  }
 },
 "nbformat": 4,
 "nbformat_minor": 2
}
